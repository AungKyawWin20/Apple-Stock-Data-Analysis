{
 "cells": [
  {
   "cell_type": "markdown",
   "metadata": {},
   "source": [
    "Apple Stock Data Analysis and Prediction Model\n"
   ]
  },
  {
   "cell_type": "markdown",
   "metadata": {},
   "source": [
    "Importing the necessary libraries"
   ]
  },
  {
   "cell_type": "code",
   "execution_count": 11,
   "metadata": {},
   "outputs": [],
   "source": [
    "import pandas as pd\n",
    "import numpy as np\n",
    "import seaborn as sns\n",
    "import matplotlib.pyplot as plt\n",
    "from sklearn.model_selection import train_test_split\n",
    "from sklearn.linear_model import LinearRegression\n",
    "from sklearn.metrics import mean_squared_error, mean_absolute_error, r2_score\n",
    "from sklearn.ensemble import RandomForestRegressor\n",
    "from sklearn.preprocessing import MinMaxScaler"
   ]
  },
  {
   "cell_type": "markdown",
   "metadata": {},
   "source": [
    "Exploring the Dataset"
   ]
  },
  {
   "cell_type": "code",
   "execution_count": 12,
   "metadata": {},
   "outputs": [
    {
     "name": "stdout",
     "output_type": "stream",
     "text": [
      "<class 'pandas.core.frame.DataFrame'>\n",
      "RangeIndex: 10468 entries, 0 to 10467\n",
      "Data columns (total 7 columns):\n",
      " #   Column     Non-Null Count  Dtype  \n",
      "---  ------     --------------  -----  \n",
      " 0   Date       10468 non-null  object \n",
      " 1   Open       10468 non-null  float64\n",
      " 2   High       10468 non-null  float64\n",
      " 3   Low        10468 non-null  float64\n",
      " 4   Close      10468 non-null  float64\n",
      " 5   Adj Close  10468 non-null  float64\n",
      " 6   Volume     10468 non-null  int64  \n",
      "dtypes: float64(5), int64(1), object(1)\n",
      "memory usage: 572.6+ KB\n"
     ]
    },
    {
     "data": {
      "text/html": [
       "<div>\n",
       "<style scoped>\n",
       "    .dataframe tbody tr th:only-of-type {\n",
       "        vertical-align: middle;\n",
       "    }\n",
       "\n",
       "    .dataframe tbody tr th {\n",
       "        vertical-align: top;\n",
       "    }\n",
       "\n",
       "    .dataframe thead th {\n",
       "        text-align: right;\n",
       "    }\n",
       "</style>\n",
       "<table border=\"1\" class=\"dataframe\">\n",
       "  <thead>\n",
       "    <tr style=\"text-align: right;\">\n",
       "      <th></th>\n",
       "      <th>Open</th>\n",
       "      <th>High</th>\n",
       "      <th>Low</th>\n",
       "      <th>Close</th>\n",
       "      <th>Adj Close</th>\n",
       "      <th>Volume</th>\n",
       "    </tr>\n",
       "  </thead>\n",
       "  <tbody>\n",
       "    <tr>\n",
       "      <th>count</th>\n",
       "      <td>10468.000000</td>\n",
       "      <td>10468.000000</td>\n",
       "      <td>10468.000000</td>\n",
       "      <td>10468.000000</td>\n",
       "      <td>10468.000000</td>\n",
       "      <td>1.046800e+04</td>\n",
       "    </tr>\n",
       "    <tr>\n",
       "      <th>mean</th>\n",
       "      <td>14.757987</td>\n",
       "      <td>14.921491</td>\n",
       "      <td>14.594484</td>\n",
       "      <td>14.763533</td>\n",
       "      <td>14.130431</td>\n",
       "      <td>3.308489e+08</td>\n",
       "    </tr>\n",
       "    <tr>\n",
       "      <th>std</th>\n",
       "      <td>31.914174</td>\n",
       "      <td>32.289158</td>\n",
       "      <td>31.543959</td>\n",
       "      <td>31.929489</td>\n",
       "      <td>31.637275</td>\n",
       "      <td>3.388418e+08</td>\n",
       "    </tr>\n",
       "    <tr>\n",
       "      <th>min</th>\n",
       "      <td>0.049665</td>\n",
       "      <td>0.049665</td>\n",
       "      <td>0.049107</td>\n",
       "      <td>0.049107</td>\n",
       "      <td>0.038329</td>\n",
       "      <td>0.000000e+00</td>\n",
       "    </tr>\n",
       "    <tr>\n",
       "      <th>25%</th>\n",
       "      <td>0.283482</td>\n",
       "      <td>0.289286</td>\n",
       "      <td>0.276786</td>\n",
       "      <td>0.283482</td>\n",
       "      <td>0.235462</td>\n",
       "      <td>1.237768e+08</td>\n",
       "    </tr>\n",
       "    <tr>\n",
       "      <th>50%</th>\n",
       "      <td>0.474107</td>\n",
       "      <td>0.482768</td>\n",
       "      <td>0.465960</td>\n",
       "      <td>0.475446</td>\n",
       "      <td>0.392373</td>\n",
       "      <td>2.181592e+08</td>\n",
       "    </tr>\n",
       "    <tr>\n",
       "      <th>75%</th>\n",
       "      <td>14.953303</td>\n",
       "      <td>15.057143</td>\n",
       "      <td>14.692589</td>\n",
       "      <td>14.901964</td>\n",
       "      <td>12.835269</td>\n",
       "      <td>4.105794e+08</td>\n",
       "    </tr>\n",
       "    <tr>\n",
       "      <th>max</th>\n",
       "      <td>182.630005</td>\n",
       "      <td>182.940002</td>\n",
       "      <td>179.119995</td>\n",
       "      <td>182.009995</td>\n",
       "      <td>181.511703</td>\n",
       "      <td>7.421641e+09</td>\n",
       "    </tr>\n",
       "  </tbody>\n",
       "</table>\n",
       "</div>"
      ],
      "text/plain": [
       "               Open          High           Low         Close     Adj Close  \\\n",
       "count  10468.000000  10468.000000  10468.000000  10468.000000  10468.000000   \n",
       "mean      14.757987     14.921491     14.594484     14.763533     14.130431   \n",
       "std       31.914174     32.289158     31.543959     31.929489     31.637275   \n",
       "min        0.049665      0.049665      0.049107      0.049107      0.038329   \n",
       "25%        0.283482      0.289286      0.276786      0.283482      0.235462   \n",
       "50%        0.474107      0.482768      0.465960      0.475446      0.392373   \n",
       "75%       14.953303     15.057143     14.692589     14.901964     12.835269   \n",
       "max      182.630005    182.940002    179.119995    182.009995    181.511703   \n",
       "\n",
       "             Volume  \n",
       "count  1.046800e+04  \n",
       "mean   3.308489e+08  \n",
       "std    3.388418e+08  \n",
       "min    0.000000e+00  \n",
       "25%    1.237768e+08  \n",
       "50%    2.181592e+08  \n",
       "75%    4.105794e+08  \n",
       "max    7.421641e+09  "
      ]
     },
     "execution_count": 12,
     "metadata": {},
     "output_type": "execute_result"
    }
   ],
   "source": [
    "df = pd.read_csv('AAPL.csv') # Load Dataset\n",
    "\n",
    "df.info()\n",
    "df.head()\n",
    "\n",
    "## Statistical summary of the data\n",
    "df.describe()"
   ]
  },
  {
   "cell_type": "markdown",
   "metadata": {},
   "source": [
    "Data Wrangling Process"
   ]
  },
  {
   "cell_type": "code",
   "execution_count": 13,
   "metadata": {},
   "outputs": [],
   "source": [
    "# check for missing values\n",
    "df.isnull().sum()\n",
    "\n",
    "# check for duplicate rows\n",
    "df.duplicated().sum()\n",
    "\n",
    "# drop duplicate rows\n",
    "df.drop_duplicates(inplace=True)\n",
    "\n",
    "# check the data types of the columns\n",
    "df.dtypes\n",
    "\n",
    "# convert 'Date' column to datetime format\n",
    "df['Date'] = pd.to_datetime(df['Date'])\n",
    "\n",
    "# set the 'Date' column as the index\n",
    "#df.set_index('Date', inplace=True)"
   ]
  },
  {
   "cell_type": "markdown",
   "metadata": {},
   "source": [
    "Features Engineering"
   ]
  },
  {
   "cell_type": "code",
   "execution_count": 14,
   "metadata": {},
   "outputs": [
    {
     "data": {
      "text/html": [
       "<div>\n",
       "<style scoped>\n",
       "    .dataframe tbody tr th:only-of-type {\n",
       "        vertical-align: middle;\n",
       "    }\n",
       "\n",
       "    .dataframe tbody tr th {\n",
       "        vertical-align: top;\n",
       "    }\n",
       "\n",
       "    .dataframe thead th {\n",
       "        text-align: right;\n",
       "    }\n",
       "</style>\n",
       "<table border=\"1\" class=\"dataframe\">\n",
       "  <thead>\n",
       "    <tr style=\"text-align: right;\">\n",
       "      <th></th>\n",
       "      <th>Date</th>\n",
       "      <th>Open</th>\n",
       "      <th>High</th>\n",
       "      <th>Low</th>\n",
       "      <th>Close</th>\n",
       "      <th>Adj Close</th>\n",
       "      <th>Volume</th>\n",
       "      <th>day_of_week</th>\n",
       "      <th>month</th>\n",
       "      <th>quarter</th>\n",
       "      <th>year</th>\n",
       "      <th>week_of_year</th>\n",
       "      <th>day_of_year</th>\n",
       "      <th>lag_1</th>\n",
       "      <th>lag_2</th>\n",
       "      <th>lag_3</th>\n",
       "      <th>lag_4</th>\n",
       "      <th>lag_5</th>\n",
       "    </tr>\n",
       "  </thead>\n",
       "  <tbody>\n",
       "    <tr>\n",
       "      <th>5</th>\n",
       "      <td>1980-12-19</td>\n",
       "      <td>0.126116</td>\n",
       "      <td>0.126674</td>\n",
       "      <td>0.126116</td>\n",
       "      <td>0.126116</td>\n",
       "      <td>0.098436</td>\n",
       "      <td>48630400</td>\n",
       "      <td>4</td>\n",
       "      <td>12</td>\n",
       "      <td>4</td>\n",
       "      <td>1980</td>\n",
       "      <td>51</td>\n",
       "      <td>354</td>\n",
       "      <td>0.118862</td>\n",
       "      <td>0.115513</td>\n",
       "      <td>0.112723</td>\n",
       "      <td>0.121652</td>\n",
       "      <td>0.128348</td>\n",
       "    </tr>\n",
       "    <tr>\n",
       "      <th>6</th>\n",
       "      <td>1980-12-22</td>\n",
       "      <td>0.132254</td>\n",
       "      <td>0.132813</td>\n",
       "      <td>0.132254</td>\n",
       "      <td>0.132254</td>\n",
       "      <td>0.103227</td>\n",
       "      <td>37363200</td>\n",
       "      <td>0</td>\n",
       "      <td>12</td>\n",
       "      <td>4</td>\n",
       "      <td>1980</td>\n",
       "      <td>52</td>\n",
       "      <td>357</td>\n",
       "      <td>0.126116</td>\n",
       "      <td>0.118862</td>\n",
       "      <td>0.115513</td>\n",
       "      <td>0.112723</td>\n",
       "      <td>0.121652</td>\n",
       "    </tr>\n",
       "    <tr>\n",
       "      <th>7</th>\n",
       "      <td>1980-12-23</td>\n",
       "      <td>0.137835</td>\n",
       "      <td>0.138393</td>\n",
       "      <td>0.137835</td>\n",
       "      <td>0.137835</td>\n",
       "      <td>0.107583</td>\n",
       "      <td>46950400</td>\n",
       "      <td>1</td>\n",
       "      <td>12</td>\n",
       "      <td>4</td>\n",
       "      <td>1980</td>\n",
       "      <td>52</td>\n",
       "      <td>358</td>\n",
       "      <td>0.132254</td>\n",
       "      <td>0.126116</td>\n",
       "      <td>0.118862</td>\n",
       "      <td>0.115513</td>\n",
       "      <td>0.112723</td>\n",
       "    </tr>\n",
       "    <tr>\n",
       "      <th>8</th>\n",
       "      <td>1980-12-24</td>\n",
       "      <td>0.145089</td>\n",
       "      <td>0.145647</td>\n",
       "      <td>0.145089</td>\n",
       "      <td>0.145089</td>\n",
       "      <td>0.113245</td>\n",
       "      <td>48003200</td>\n",
       "      <td>2</td>\n",
       "      <td>12</td>\n",
       "      <td>4</td>\n",
       "      <td>1980</td>\n",
       "      <td>52</td>\n",
       "      <td>359</td>\n",
       "      <td>0.137835</td>\n",
       "      <td>0.132254</td>\n",
       "      <td>0.126116</td>\n",
       "      <td>0.118862</td>\n",
       "      <td>0.115513</td>\n",
       "    </tr>\n",
       "    <tr>\n",
       "      <th>9</th>\n",
       "      <td>1980-12-26</td>\n",
       "      <td>0.158482</td>\n",
       "      <td>0.159040</td>\n",
       "      <td>0.158482</td>\n",
       "      <td>0.158482</td>\n",
       "      <td>0.123699</td>\n",
       "      <td>55574400</td>\n",
       "      <td>4</td>\n",
       "      <td>12</td>\n",
       "      <td>4</td>\n",
       "      <td>1980</td>\n",
       "      <td>52</td>\n",
       "      <td>361</td>\n",
       "      <td>0.145089</td>\n",
       "      <td>0.137835</td>\n",
       "      <td>0.132254</td>\n",
       "      <td>0.126116</td>\n",
       "      <td>0.118862</td>\n",
       "    </tr>\n",
       "  </tbody>\n",
       "</table>\n",
       "</div>"
      ],
      "text/plain": [
       "        Date      Open      High       Low     Close  Adj Close    Volume  \\\n",
       "5 1980-12-19  0.126116  0.126674  0.126116  0.126116   0.098436  48630400   \n",
       "6 1980-12-22  0.132254  0.132813  0.132254  0.132254   0.103227  37363200   \n",
       "7 1980-12-23  0.137835  0.138393  0.137835  0.137835   0.107583  46950400   \n",
       "8 1980-12-24  0.145089  0.145647  0.145089  0.145089   0.113245  48003200   \n",
       "9 1980-12-26  0.158482  0.159040  0.158482  0.158482   0.123699  55574400   \n",
       "\n",
       "   day_of_week  month  quarter  year  week_of_year  day_of_year     lag_1  \\\n",
       "5            4     12        4  1980            51          354  0.118862   \n",
       "6            0     12        4  1980            52          357  0.126116   \n",
       "7            1     12        4  1980            52          358  0.132254   \n",
       "8            2     12        4  1980            52          359  0.137835   \n",
       "9            4     12        4  1980            52          361  0.145089   \n",
       "\n",
       "      lag_2     lag_3     lag_4     lag_5  \n",
       "5  0.115513  0.112723  0.121652  0.128348  \n",
       "6  0.118862  0.115513  0.112723  0.121652  \n",
       "7  0.126116  0.118862  0.115513  0.112723  \n",
       "8  0.132254  0.126116  0.118862  0.115513  \n",
       "9  0.137835  0.132254  0.126116  0.118862  "
      ]
     },
     "execution_count": 14,
     "metadata": {},
     "output_type": "execute_result"
    }
   ],
   "source": [
    "def add_features(data):\n",
    "    # Add day of the week feature\n",
    "    data['day_of_week'] = data['Date'].dt.dayofweek\n",
    "    \n",
    "    # Add month feature\n",
    "    data['month'] = data['Date'].dt.month\n",
    "    \n",
    "    # Add quarter feature\n",
    "    data['quarter'] = data['Date'].dt.quarter\n",
    "    \n",
    "    # Add year feature\n",
    "    data['year'] = data['Date'].dt.year\n",
    "    \n",
    "    # Add week of the year feature\n",
    "    data['week_of_year'] = data['Date'].dt.isocalendar().week\n",
    "    \n",
    "    # Add day of the year feature\n",
    "    data['day_of_year'] = data['Date'].dt.dayofyear\n",
    "    \n",
    "    # Add lagged features\n",
    "    data['lag_1'] = data['Close'].shift(1)\n",
    "    data['lag_2'] = data['Close'].shift(2)\n",
    "    data['lag_3'] = data['Close'].shift(3)\n",
    "    data['lag_4'] = data['Close'].shift(4)\n",
    "    data['lag_5'] = data['Close'].shift(5)\n",
    "    \n",
    "    return data\n",
    "\n",
    "\n",
    "# Apply the function to the data\n",
    "df = add_features(df)\n",
    "\n",
    "# Drop rows with missing values\n",
    "df.dropna(inplace=True)\n",
    "\n",
    "df.head() #Checking to see if the changes were made"
   ]
  },
  {
   "cell_type": "markdown",
   "metadata": {},
   "source": [
    "Exploratory Data Analysis"
   ]
  },
  {
   "cell_type": "code",
   "execution_count": 15,
   "metadata": {},
   "outputs": [
    {
     "data": {
      "text/plain": [
       "<Figure size 1000x600 with 0 Axes>"
      ]
     },
     "metadata": {},
     "output_type": "display_data"
    },
    {
     "data": {
      "image/png": "[encoded data removed]",
      "text/plain": [
       "<Figure size 500x500 with 1 Axes>"
      ]
     },
     "metadata": {},
     "output_type": "display_data"
    },
    {
     "data": {
      "image/png": "[encoded data removed]",
      "text/plain": [
       "<Figure size 640x480 with 1 Axes>"
      ]
     },
     "metadata": {},
     "output_type": "display_data"
    }
   ],
   "source": [
    "plt.figure(figsize=(10, 6))\n",
    "\n",
    "# Distribution of the target variable\n",
    "sns.displot(data=df, x='Close', kde=True)\n",
    "plt.title('Distribution of Close Prices')\n",
    "plt.show()\n",
    "\n",
    "# Line plot of close prices over time\n",
    "sns.lineplot(data=df, x='Date', y='Close')\n",
    "plt.title('Close Prices Over Time')\n",
    "plt.xlabel('Date')\n",
    "plt.ylabel('Close Price')\n",
    "plt.xticks(rotation=45)\n",
    "plt.show()"
   ]
  },
  {
   "cell_type": "markdown",
   "metadata": {},
   "source": [
    "Modelling"
   ]
  },
  {
   "cell_type": "markdown",
   "metadata": {},
   "source": [
    "Linear Regression Model"
   ]
  },
  {
   "cell_type": "code",
   "execution_count": 16,
   "metadata": {},
   "outputs": [
    {
     "name": "stdout",
     "output_type": "stream",
     "text": [
      "Linear Regression Model:\n",
      "MSE: 0.06\n",
      "RMSE: 0.25\n",
      "MAE: 0.07\n",
      "MAPE: 0.79%\n",
      "R2 Score: 1.00\n",
      "\n"
     ]
    }
   ],
   "source": [
    "#Train Test Split\n",
    "# Define features and target variable\n",
    "X = df[['Open', 'High', 'Low', 'Volume', 'lag_1', 'lag_2', 'lag_3', 'lag_4', 'lag_5']]\n",
    "y = df['Close']\n",
    "\n",
    "# Split the data into training and testing sets\n",
    "X_train, X_test, y_train, y_test = train_test_split(X, y, test_size=0.2, random_state=42)\n",
    "# Linear Regression Model\n",
    "lr_model = LinearRegression()\n",
    "lr_model.fit(X_train, y_train)\n",
    "y_pred_lr = lr_model.predict(X_test)\n",
    "mse_lr = mean_squared_error(y_test, y_pred_lr)\n",
    "rmse_lr = np.sqrt(mse_lr)\n",
    "mae_lr = mean_absolute_error(y_test, y_pred_lr)\n",
    "mape_lr = np.mean(np.abs((y_test - y_pred_lr) / y_test)) * 100\n",
    "r2_lr = r2_score(y_test, y_pred_lr)\n",
    "\n",
    "print('Linear Regression Model:')\n",
    "print(f'MSE: {mse_lr:.2f}')\n",
    "print(f'RMSE: {rmse_lr:.2f}')\n",
    "print(f'MAE: {mae_lr:.2f}')\n",
    "print(f'MAPE: {mape_lr:.2f}%')\n",
    "print(f'R2 Score: {r2_lr:.2f}\\n')"
   ]
  },
  {
   "cell_type": "markdown",
   "metadata": {},
   "source": [
    "Random Forest Regression Model"
   ]
  },
  {
   "cell_type": "code",
   "execution_count": 17,
   "metadata": {},
   "outputs": [
    {
     "name": "stdout",
     "output_type": "stream",
     "text": [
      "Random Forest Regression Model:\n",
      "MSE: 0.13\n",
      "RMSE: 0.37\n",
      "MAE: 0.11\n",
      "MAPE: 0.88%\n",
      "R2 Score: 1.00\n",
      "\n"
     ]
    }
   ],
   "source": [
    "# Random Forest Regression Model\n",
    "rf_model = RandomForestRegressor(n_estimators=100, random_state=42)\n",
    "rf_model.fit(X_train, y_train)\n",
    "y_pred_rf = rf_model.predict(X_test)\n",
    "mse_rf = mean_squared_error(y_test, y_pred_rf)\n",
    "rmse_rf = np.sqrt(mse_rf)\n",
    "mae_rf = mean_absolute_error(y_test, y_pred_rf)\n",
    "mape_rf = np.mean(np.abs((y_test - y_pred_rf) / y_test)) * 100\n",
    "r2_rf = r2_score(y_test, y_pred_rf)\n",
    "\n",
    "print('Random Forest Regression Model:')\n",
    "print(f'MSE: {mse_rf:.2f}')\n",
    "print(f'RMSE: {rmse_rf:.2f}')\n",
    "print(f'MAE: {mae_rf:.2f}')\n",
    "print(f'MAPE: {mape_rf:.2f}%')\n",
    "print(f'R2 Score: {r2_rf:.2f}\\n')"
   ]
  }
 ],
 "metadata": {
  "kernelspec": {
   "display_name": "Python 3",
   "language": "python",
   "name": "python3"
  },
  "language_info": {
   "codemirror_mode": {
    "name": "ipython",
    "version": 3
   },
   "file_extension": ".py",
   "mimetype": "text/x-python",
   "name": "python",
   "nbconvert_exporter": "python",
   "pygments_lexer": "ipython3",
   "version": "3.12.2"
  }
 },
 "nbformat": 4,
 "nbformat_minor": 2
}
